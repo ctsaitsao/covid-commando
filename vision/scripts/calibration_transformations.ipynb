{
 "cells": [
  {
   "cell_type": "code",
   "execution_count": 30,
   "metadata": {},
   "outputs": [],
   "source": [
    "from geometry_msgs.msg import Transform, Vector3, Quaternion\n",
    "from tf.transformations import *"
   ]
  },
  {
   "cell_type": "markdown",
   "metadata": {},
   "source": [
    "t = tag\n",
    "b = baxter\n",
    "r = realsense\n",
    "\n",
    "Tbt = tag in baxter head camera frame\\\n",
    "Trt = tag in realsense frame\\\n",
    "Tbr = realsense in baxter head camera frame"
   ]
  },
  {
   "cell_type": "code",
   "execution_count": null,
   "metadata": {},
   "outputs": [],
   "source": [
    "# Tbt = Transform(translation=Vector3(x=-0.00080424, y=0.13821, z=1.1631),\n",
    "#                 rotation=Quaternion(x=0.70979, y=0.68655, z=-0.15584, w=-0.02361))\n",
    "# Tbt"
   ]
  },
  {
   "cell_type": "code",
   "execution_count": 31,
   "metadata": {},
   "outputs": [
    {
     "name": "stdout",
     "output_type": "stream",
     "text": [
      "Tbt =\n",
      " [[ 8.72230051e-03  9.67257478e-01 -2.53647181e-01 -8.04240000e-04]\n",
      " [ 9.81975063e-01 -5.61798238e-02 -1.80468291e-01  1.38210000e-01]\n",
      " [-1.88809158e-01 -2.47501107e-01 -9.50312740e-01  1.16310000e+00]\n",
      " [ 0.00000000e+00  0.00000000e+00  0.00000000e+00  1.00000000e+00]]\n"
     ]
    }
   ],
   "source": [
    "pbt = translation_matrix([-0.00080424, 0.13821, 1.1631])\n",
    "Rbt = quaternion_matrix([0.70979, 0.68655, -0.15584, -0.02361])\n",
    "Tbt = concatenate_matrices(pbt, Rbt)\n",
    "print(\"Tbt =\\n\", Tbt)"
   ]
  },
  {
   "cell_type": "code",
   "execution_count": 24,
   "metadata": {},
   "outputs": [],
   "source": [
    "# Trt = Transform(translation=Vector3(x=0.091172, y=0.13873, z=1.3479),\n",
    "#                 rotation=Quaternion(x=-0.69976, y=0.71181, z=0.0052353, w=0.060349))\n",
    "# Trt"
   ]
  },
  {
   "cell_type": "code",
   "execution_count": 35,
   "metadata": {},
   "outputs": [
    {
     "name": "stdout",
     "output_type": "stream",
     "text": [
      "Trt =\n",
      " [[-0.01339473 -0.9968173   0.07858659  0.091172  ]\n",
      " [-0.99555353  0.02062387  0.09191207  0.13873   ]\n",
      " [-0.0932403  -0.07700602 -0.99266123  1.3479    ]\n",
      " [ 0.          0.          0.          1.        ]]\n"
     ]
    }
   ],
   "source": [
    "prt = translation_matrix([0.091172, 0.13873, 1.3479])\n",
    "Rrt = quaternion_matrix([-0.69976, 0.71181, 0.0052353, 0.060349])\n",
    "Trt = concatenate_matrices(prt, Rrt)\n",
    "print(\"Trt =\\n\", Trt)"
   ]
  },
  {
   "cell_type": "code",
   "execution_count": 36,
   "metadata": {},
   "outputs": [
    {
     "name": "stdout",
     "output_type": "stream",
     "text": [
      "Tbr =\n",
      " [[-1.16832878e-04 -9.62956595e-01  2.36501400e-02 -2.13134031e-04]\n",
      " [-9.78849730e-01 -1.15864531e-03  1.38971448e-02  2.65110403e-02]\n",
      " [-1.48378680e-02 -2.27483396e-02  9.43338614e-01  1.53307305e+00]\n",
      " [ 0.00000000e+00  0.00000000e+00  0.00000000e+00  1.00000000e+00]]\n"
     ]
    }
   ],
   "source": [
    "Tbr = Tbt * inverse_matrix(Trt)\n",
    "print(\"Tbr =\\n\", Tbr)"
   ]
  },
  {
   "cell_type": "code",
   "execution_count": 44,
   "metadata": {},
   "outputs": [
    {
     "name": "stdout",
     "output_type": "stream",
     "text": [
      "Tbr_ =\n",
      " translation: \n",
      "  x: -0.00021313403086664937\n",
      "  y: 0.026511040266107982\n",
      "  z: 1.5330730545276134\n",
      "rotation: \n",
      "  x: -0.013147972865170205\n",
      "  y: 0.013809048846600454\n",
      "  z: -0.005702271764183202\n",
      "  w: 0.6967896267443657\n"
     ]
    },
    {
     "data": {
      "text/plain": [
       "(-0.02411003990034436, 0.015157312816261046, -1.5709156841120222)"
      ]
     },
     "execution_count": 44,
     "metadata": {},
     "output_type": "execute_result"
    }
   ],
   "source": [
    "vbr = translation_from_matrix(Tbr)\n",
    "qbr = quaternion_from_matrix(Tbr)\n",
    "\n",
    "Tbr_ = Transform(translation=Vector3(x=vbr[0], y=vbr[1], z=vbr[2]),\n",
    "                 rotation=Quaternion(x=qbr[0], y=qbr[1], z=qbr[2], w=qbr[3]))\n",
    "\n",
    "print(\"Tbr_ =\\n\", Tbr_)\n",
    "\n",
    "ebr = euler_from_matrix(Tbr)\n",
    "\n",
    "ebr"
   ]
  },
  {
   "cell_type": "code",
   "execution_count": null,
   "metadata": {},
   "outputs": [],
   "source": []
  }
 ],
 "metadata": {
  "kernelspec": {
   "display_name": "Python 3",
   "language": "python",
   "name": "python3"
  },
  "language_info": {
   "codemirror_mode": {
    "name": "ipython",
    "version": 3
   },
   "file_extension": ".py",
   "mimetype": "text/x-python",
   "name": "python",
   "nbconvert_exporter": "python",
   "pygments_lexer": "ipython3",
   "version": "3.8.5"
  }
 },
 "nbformat": 4,
 "nbformat_minor": 4
}
