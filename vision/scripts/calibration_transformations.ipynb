{
 "cells": [
  {
   "cell_type": "code",
   "execution_count": 2,
   "metadata": {},
   "outputs": [],
   "source": [
    "from geometry_msgs.msg import Transform, Vector3, Quaternion\n",
    "from tf.transformations import *"
   ]
  },
  {
   "cell_type": "markdown",
   "metadata": {},
   "source": [
    "t = tag\\\n",
    "b = baxter head camera\\\n",
    "r = realsense\n",
    "\n",
    "Tbt = tag in baxter head camera frame\\\n",
    "Trt = tag in realsense frame\\\n",
    "Tbr = realsense in baxter head camera frame"
   ]
  },
  {
   "cell_type": "code",
   "execution_count": 3,
   "metadata": {},
   "outputs": [],
   "source": [
    "# Tbt = Transform(translation=Vector3(x=-0.00080424, y=0.13821, z=1.1631),\n",
    "#                 rotation=Quaternion(x=0.70979, y=0.68655, z=-0.15584, w=-0.02361))\n",
    "# Tbt"
   ]
  },
  {
   "cell_type": "code",
   "execution_count": 19,
   "metadata": {},
   "outputs": [
    {
     "name": "stdout",
     "output_type": "stream",
     "text": [
      "Tbt =\n",
      " [[ 8.72230051e-03  9.67257478e-01 -2.53647181e-01 -8.04240000e-04]\n",
      " [ 9.81975063e-01 -5.61798238e-02 -1.80468291e-01  1.38210000e-01]\n",
      " [-1.88809158e-01 -2.47501107e-01 -9.50312740e-01  1.16310000e+00]\n",
      " [ 0.00000000e+00  0.00000000e+00  0.00000000e+00  1.00000000e+00]]\n"
     ]
    },
    {
     "data": {
      "text/plain": [
       "array([[ 0.0087223 ,  0.96725748, -0.25364718,  0.        ],\n",
       "       [ 0.98197506, -0.05617982, -0.18046829,  0.        ],\n",
       "       [-0.18880916, -0.24750111, -0.95031274,  0.        ],\n",
       "       [ 0.        ,  0.        ,  0.        ,  1.        ]])"
      ]
     },
     "execution_count": 19,
     "metadata": {},
     "output_type": "execute_result"
    }
   ],
   "source": [
    "pbt = translation_matrix([-0.00080424, 0.13821, 1.1631])\n",
    "Rbt = quaternion_matrix([0.70979, 0.68655, -0.15584, -0.02361])\n",
    "Tbt = concatenate_matrices(pbt, Rbt)\n",
    "print(\"Tbt =\\n\", Tbt)\n",
    "pbt"
   ]
  },
  {
   "cell_type": "code",
   "execution_count": 5,
   "metadata": {},
   "outputs": [],
   "source": [
    "# Trt = Transform(translation=Vector3(x=0.091172, y=0.13873, z=1.3479),\n",
    "#                 rotation=Quaternion(x=-0.69976, y=0.71181, z=0.0052353, w=0.060349))\n",
    "# Trt"
   ]
  },
  {
   "cell_type": "code",
   "execution_count": 6,
   "metadata": {},
   "outputs": [
    {
     "name": "stdout",
     "output_type": "stream",
     "text": [
      "Trt =\n",
      " [[-0.01339473 -0.9968173   0.07858659  0.091172  ]\n",
      " [-0.99555353  0.02062387  0.09191207  0.13873   ]\n",
      " [-0.0932403  -0.07700602 -0.99266123  1.3479    ]\n",
      " [ 0.          0.          0.          1.        ]]\n"
     ]
    }
   ],
   "source": [
    "prt = translation_matrix([0.091172, 0.13873, 1.3479])\n",
    "Rrt = quaternion_matrix([-0.69976, 0.71181, 0.0052353, 0.060349])\n",
    "Trt = concatenate_matrices(prt, Rrt)\n",
    "print(\"Trt =\\n\", Trt)"
   ]
  },
  {
   "cell_type": "code",
   "execution_count": 11,
   "metadata": {},
   "outputs": [
    {
     "name": "stdout",
     "output_type": "stream",
     "text": [
      "Tbr =\n",
      " [[-0.98422909 -0.01204816  0.1764878  -0.14728657]\n",
      " [ 0.02866534 -0.9953546   0.09191041  0.14979603]\n",
      " [ 0.1745606   0.09551998  0.98000231 -0.18701164]\n",
      " [ 0.          0.          0.          1.        ]]\n"
     ]
    }
   ],
   "source": [
    "Tbr = Tbt @ inverse_matrix(Trt)\n",
    "print(\"Tbr =\\n\", Tbr)"
   ]
  },
  {
   "cell_type": "code",
   "execution_count": 17,
   "metadata": {},
   "outputs": [
    {
     "name": "stdout",
     "output_type": "stream",
     "text": [
      "Tbr_ =\n",
      " translation: \n",
      "  x: -0.1472865747272882\n",
      "  y: 0.1497960282015105\n",
      "  z: -0.1870116420679273\n",
      "rotation: \n",
      "  x: 0.08820884012981547\n",
      "  y: 0.047096118746598616\n",
      "  z: 0.994935424732234\n",
      "  w: 0.010230187429768183\n"
     ]
    }
   ],
   "source": [
    "vbr = translation_from_matrix(Tbr)\n",
    "# type(Tbt)\n",
    "\n",
    "qbr = quaternion_from_matrix(Tbr)\n",
    "\n",
    "Tbr_ = Transform(translation=Vector3(x=vbr[0], y=vbr[1], z=vbr[2]),\n",
    "                 rotation=Quaternion(x=qbr[0], y=qbr[1], z=qbr[2], w=qbr[3]))\n",
    "\n",
    "print(\"Tbr_ =\\n\", Tbr_)\n",
    "\n",
    "# ebr = euler_from_matrix(Tbr)\n",
    "\n",
    "# ebr"
   ]
  },
  {
   "cell_type": "code",
   "execution_count": null,
   "metadata": {},
   "outputs": [],
   "source": []
  }
 ],
 "metadata": {
  "kernelspec": {
   "display_name": "Python 3",
   "language": "python",
   "name": "python3"
  },
  "language_info": {
   "codemirror_mode": {
    "name": "ipython",
    "version": 3
   },
   "file_extension": ".py",
   "mimetype": "text/x-python",
   "name": "python",
   "nbconvert_exporter": "python",
   "pygments_lexer": "ipython3",
   "version": "3.8.5"
  }
 },
 "nbformat": 4,
 "nbformat_minor": 4
}
